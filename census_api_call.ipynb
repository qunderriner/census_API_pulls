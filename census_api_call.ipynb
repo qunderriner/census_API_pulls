{
 "cells": [
  {
   "cell_type": "code",
   "execution_count": 2,
   "metadata": {},
   "outputs": [],
   "source": [
    "import pandas as pd\n",
    "import requests"
   ]
  },
  {
   "cell_type": "markdown",
   "metadata": {},
   "source": [
    "This notebook gathers data from the census API "
   ]
  },
  {
   "cell_type": "code",
   "execution_count": 22,
   "metadata": {},
   "outputs": [],
   "source": [
    "#got state number list from this github https://gist.github.com/dantonnoriega/bf1acd2290e15b91e6710b6fd3be0a53\n",
    "census_state_list_url = \"https://gist.githubusercontent.com/dantonnoriega/bf1acd2290e15b91e6710b6fd3be0a53/raw/11d15233327c8080c9646c7e1f23052659db251d/us-state-ansi-fips.csv\""
   ]
  },
  {
   "cell_type": "code",
   "execution_count": 31,
   "metadata": {},
   "outputs": [],
   "source": [
    "#need converter to keep leading zero\n",
    "states = pd.read_csv(census_state_list_url,converters={' st': lambda x: str(x)})\n",
    "states_list = states[\" st\"]"
   ]
  },
  {
   "cell_type": "code",
   "execution_count": 112,
   "metadata": {},
   "outputs": [],
   "source": [
    "def get_data(year,acs,state,codes):\n",
    "    \"\"\"\n",
    "    Load data from API. modify the url to change the items being requested. Also if adding new items to call, add them to the \"codes\" dictionary above\n",
    "    so they they get proper column labels. \n",
    "    inputs:\n",
    "        year (str) year of the call \n",
    "        acs(str) 1 or 5 year acs \n",
    "        state (str) which state - should run through state list - of form 01-50.\n",
    "        codes (str) codes for data you want to load \n",
    "        \n",
    "    \"\"\"\n",
    "    #use the URL below for census tract level \n",
    "    #url = \"https://api.census.gov/data/\"+year+\"/acs/acs\"+acs+\"?get=NAME,\"+codes +\"&for=tract:*&in=state:\"+state+\"&in=county:*\"\n",
    "    \n",
    "    #the URL below is for county level \n",
    "    url = \"https://api.census.gov/data/\"+year+\"/acs/acs\"+acs+\"?get=NAME,\"+codes +\"&for=county:*&in=state:*\" \n",
    "    #+state\n",
    "\n",
    "    #print(url)\n",
    "    response = requests.get(url)\n",
    "    data_1 = pd.DataFrame(response.json())\n",
    "\n",
    "    return data_1 \n"
   ]
  },
  {
   "cell_type": "code",
   "execution_count": 61,
   "metadata": {},
   "outputs": [],
   "source": [
    "def make_header(df,codes):\n",
    "\t\"\"\"\n",
    "\tdo some basic cleanup of the header row \n",
    "\t\"\"\"\n",
    "\tnew_header = df.iloc[0] #grab the first row for the header\n",
    "\tdf = df[1:] #take the data less the header row\n",
    "\tdf.columns = new_header\n",
    "\tdf.columns = [codes[x] for x in df.columns]\n",
    "\treturn df "
   ]
  },
  {
   "cell_type": "code",
   "execution_count": 52,
   "metadata": {},
   "outputs": [],
   "source": [
    "#to make column names need to make dictionary of codes to names acs_5\n",
    "codes = dict(zip(acs_5.code, acs_5.label))\n",
    "tract_dict = {\"NAME\":\"Name\",\"state\":\"State\",\"county\":\"County\",\"tract\":\"Tract\"}\n",
    "codes.update(tract_dict) "
   ]
  },
  {
   "cell_type": "code",
   "execution_count": 101,
   "metadata": {},
   "outputs": [],
   "source": [
    "#to make column names need to make dictionary of codes to names acs_1_2018\n",
    "codes_1_2018 = dict(zip(acs_1_2018.code, acs_1_2018.label))\n",
    "tract_dict = {\"NAME\":\"Name\",\"state\":\"State\",\"county\":\"County\"}\n",
    "codes_1_2018.update(tract_dict) "
   ]
  },
  {
   "cell_type": "code",
   "execution_count": 100,
   "metadata": {},
   "outputs": [],
   "source": [
    "#to make column names need to make dictionary of codes to names acs_1_2014\n",
    "codes_1_2014 = dict(zip(acs_1_2014.code, acs_1_2014.label))\n",
    "tract_dict = {\"NAME\":\"Name\",\"state\":\"State\",\"county\":\"County\"}\n",
    "codes_1_2014.update(tract_dict) "
   ]
  },
  {
   "cell_type": "code",
   "execution_count": 5,
   "metadata": {},
   "outputs": [],
   "source": [
    "#read in list of desired codes for variables \n",
    "df_key = pd.read_excel(\"ACS data dl.xlsx\")"
   ]
  },
  {
   "cell_type": "code",
   "execution_count": 8,
   "metadata": {},
   "outputs": [
    {
     "data": {
      "text/plain": [
       "array(['ACS 5 year 2018', 'ACS 1 year 2018', 'ACS 1 year 2014'],\n",
       "      dtype=object)"
      ]
     },
     "execution_count": 8,
     "metadata": {},
     "output_type": "execute_result"
    }
   ],
   "source": [
    "df_key.survey.unique()"
   ]
  },
  {
   "cell_type": "code",
   "execution_count": 11,
   "metadata": {},
   "outputs": [],
   "source": [
    "#subset the data based on calls to different datasets \n",
    "acs_5 = df_key[df_key.survey == 'ACS 5 year 2018']\n",
    "acs_1_2018 = df_key[df_key.survey == 'ACS 1 year 2018']\n",
    "acs_1_2014 = df_key[df_key.survey == 'ACS 1 year 2014']"
   ]
  },
  {
   "cell_type": "code",
   "execution_count": 87,
   "metadata": {},
   "outputs": [],
   "source": [
    "#make string of codes we want \n",
    "def make_string(df):\n",
    "    string = \"\"\n",
    "    for i in list(df[\"code\"].unique()):\n",
    "        i = i + \",\"\n",
    "        string += i \n",
    "    string = string[:-1]\n",
    "    return string"
   ]
  },
  {
   "cell_type": "code",
   "execution_count": null,
   "metadata": {},
   "outputs": [],
   "source": [
    "#make different variable name keys for each substring \n",
    "string = make_string(acs_5)\n",
    "string_acs_1_2014 = make_string(acs_1_2014)\n",
    "string_acs_1_2018 = make_string(acs_1_2018)"
   ]
  },
  {
   "cell_type": "code",
   "execution_count": 106,
   "metadata": {},
   "outputs": [],
   "source": [
    "def run_the_states(states_list,codes,year,acs,string):\n",
    "    \"\"\"\n",
    "    states_list (list) list of strings of state codes (01, etc)\n",
    "    codes (str) single string of all variable codes \n",
    "    year (str) year of data\n",
    "    acs (str) 1 or 5 year acs data \n",
    "    codes (dict) dictionary mapping of ACS variable name codes to real names \n",
    "        Run through list of states to get acs data from each census tract. \n",
    "    \n",
    "    \"\"\"\n",
    "\n",
    "    final_df = pd.DataFrame()\n",
    "    df = []\n",
    "    for i in states_list:\n",
    "        try:\n",
    "            new_state = get_data(year ,acs ,i , string)\n",
    "        except Exception as e:\n",
    "            print(i,\" doesn't work\", e)\n",
    "        try:\n",
    "            new_state = make_header(new_state, codes)\n",
    "        except Exception as e:\n",
    "            print(i,\" col name doesn't work\", e)\n",
    "        \n",
    "        try:\n",
    "            df.append(new_state)\n",
    "        \n",
    "        except Exception as e:\n",
    "            print(\"cant add new info\",file_name, e)\n",
    "        \n",
    "    final_df = final_df.append(df, True)   \n",
    "    return final_df"
   ]
  },
  {
   "cell_type": "code",
   "execution_count": 111,
   "metadata": {},
   "outputs": [],
   "source": [
    "def run_county_level(states_list,codes,year,acs,string):\n",
    "    try:\n",
    "        final_df = get_data(year ,acs ,i , string)\n",
    "    except Exception as e:\n",
    "        print(i,\" doesn't work\", e)\n",
    "    try:\n",
    "        final_df = make_header(final_df, codes)\n",
    "    except Exception as e:\n",
    "        print(i,\" col name doesn't work\", e)\n",
    "\n",
    "    return final_df"
   ]
  },
  {
   "cell_type": "code",
   "execution_count": 72,
   "metadata": {
    "collapsed": true
   },
   "outputs": [
    {
     "name": "stdout",
     "output_type": "stream",
     "text": [
      "https://api.census.gov/data/2018/acs/acs5?get=NAME,B17020_001E,B17020_002E,B17020_010E,B03002_001E,B03002_004E,B03002_003E,B25077_001E,B25031_001E,B25031_002E,B25031_003E,B25031_004E,B25031_005E,B25031_006E,B25031_007E,B25064_001E,B23025_001E,B23025_002E,B23025_003E,B23025_004E,B23025_005E,B23025_006E,B23025_007E&for=tract:*&in=state: 01&in=county:*\n",
      "https://api.census.gov/data/2018/acs/acs5?get=NAME,B17020_001E,B17020_002E,B17020_010E,B03002_001E,B03002_004E,B03002_003E,B25077_001E,B25031_001E,B25031_002E,B25031_003E,B25031_004E,B25031_005E,B25031_006E,B25031_007E,B25064_001E,B23025_001E,B23025_002E,B23025_003E,B23025_004E,B23025_005E,B23025_006E,B23025_007E&for=tract:*&in=state: 02&in=county:*\n",
      "https://api.census.gov/data/2018/acs/acs5?get=NAME,B17020_001E,B17020_002E,B17020_010E,B03002_001E,B03002_004E,B03002_003E,B25077_001E,B25031_001E,B25031_002E,B25031_003E,B25031_004E,B25031_005E,B25031_006E,B25031_007E,B25064_001E,B23025_001E,B23025_002E,B23025_003E,B23025_004E,B23025_005E,B23025_006E,B23025_007E&for=tract:*&in=state: 04&in=county:*\n",
      "https://api.census.gov/data/2018/acs/acs5?get=NAME,B17020_001E,B17020_002E,B17020_010E,B03002_001E,B03002_004E,B03002_003E,B25077_001E,B25031_001E,B25031_002E,B25031_003E,B25031_004E,B25031_005E,B25031_006E,B25031_007E,B25064_001E,B23025_001E,B23025_002E,B23025_003E,B23025_004E,B23025_005E,B23025_006E,B23025_007E&for=tract:*&in=state: 05&in=county:*\n",
      "https://api.census.gov/data/2018/acs/acs5?get=NAME,B17020_001E,B17020_002E,B17020_010E,B03002_001E,B03002_004E,B03002_003E,B25077_001E,B25031_001E,B25031_002E,B25031_003E,B25031_004E,B25031_005E,B25031_006E,B25031_007E,B25064_001E,B23025_001E,B23025_002E,B23025_003E,B23025_004E,B23025_005E,B23025_006E,B23025_007E&for=tract:*&in=state: 06&in=county:*\n",
      "https://api.census.gov/data/2018/acs/acs5?get=NAME,B17020_001E,B17020_002E,B17020_010E,B03002_001E,B03002_004E,B03002_003E,B25077_001E,B25031_001E,B25031_002E,B25031_003E,B25031_004E,B25031_005E,B25031_006E,B25031_007E,B25064_001E,B23025_001E,B23025_002E,B23025_003E,B23025_004E,B23025_005E,B23025_006E,B23025_007E&for=tract:*&in=state: 08&in=county:*\n",
      "https://api.census.gov/data/2018/acs/acs5?get=NAME,B17020_001E,B17020_002E,B17020_010E,B03002_001E,B03002_004E,B03002_003E,B25077_001E,B25031_001E,B25031_002E,B25031_003E,B25031_004E,B25031_005E,B25031_006E,B25031_007E,B25064_001E,B23025_001E,B23025_002E,B23025_003E,B23025_004E,B23025_005E,B23025_006E,B23025_007E&for=tract:*&in=state: 09&in=county:*\n",
      "https://api.census.gov/data/2018/acs/acs5?get=NAME,B17020_001E,B17020_002E,B17020_010E,B03002_001E,B03002_004E,B03002_003E,B25077_001E,B25031_001E,B25031_002E,B25031_003E,B25031_004E,B25031_005E,B25031_006E,B25031_007E,B25064_001E,B23025_001E,B23025_002E,B23025_003E,B23025_004E,B23025_005E,B23025_006E,B23025_007E&for=tract:*&in=state: 10&in=county:*\n",
      "https://api.census.gov/data/2018/acs/acs5?get=NAME,B17020_001E,B17020_002E,B17020_010E,B03002_001E,B03002_004E,B03002_003E,B25077_001E,B25031_001E,B25031_002E,B25031_003E,B25031_004E,B25031_005E,B25031_006E,B25031_007E,B25064_001E,B23025_001E,B23025_002E,B23025_003E,B23025_004E,B23025_005E,B23025_006E,B23025_007E&for=tract:*&in=state: 11&in=county:*\n",
      "https://api.census.gov/data/2018/acs/acs5?get=NAME,B17020_001E,B17020_002E,B17020_010E,B03002_001E,B03002_004E,B03002_003E,B25077_001E,B25031_001E,B25031_002E,B25031_003E,B25031_004E,B25031_005E,B25031_006E,B25031_007E,B25064_001E,B23025_001E,B23025_002E,B23025_003E,B23025_004E,B23025_005E,B23025_006E,B23025_007E&for=tract:*&in=state: 12&in=county:*\n",
      "https://api.census.gov/data/2018/acs/acs5?get=NAME,B17020_001E,B17020_002E,B17020_010E,B03002_001E,B03002_004E,B03002_003E,B25077_001E,B25031_001E,B25031_002E,B25031_003E,B25031_004E,B25031_005E,B25031_006E,B25031_007E,B25064_001E,B23025_001E,B23025_002E,B23025_003E,B23025_004E,B23025_005E,B23025_006E,B23025_007E&for=tract:*&in=state: 13&in=county:*\n",
      "https://api.census.gov/data/2018/acs/acs5?get=NAME,B17020_001E,B17020_002E,B17020_010E,B03002_001E,B03002_004E,B03002_003E,B25077_001E,B25031_001E,B25031_002E,B25031_003E,B25031_004E,B25031_005E,B25031_006E,B25031_007E,B25064_001E,B23025_001E,B23025_002E,B23025_003E,B23025_004E,B23025_005E,B23025_006E,B23025_007E&for=tract:*&in=state: 15&in=county:*\n",
      "https://api.census.gov/data/2018/acs/acs5?get=NAME,B17020_001E,B17020_002E,B17020_010E,B03002_001E,B03002_004E,B03002_003E,B25077_001E,B25031_001E,B25031_002E,B25031_003E,B25031_004E,B25031_005E,B25031_006E,B25031_007E,B25064_001E,B23025_001E,B23025_002E,B23025_003E,B23025_004E,B23025_005E,B23025_006E,B23025_007E&for=tract:*&in=state: 16&in=county:*\n",
      "https://api.census.gov/data/2018/acs/acs5?get=NAME,B17020_001E,B17020_002E,B17020_010E,B03002_001E,B03002_004E,B03002_003E,B25077_001E,B25031_001E,B25031_002E,B25031_003E,B25031_004E,B25031_005E,B25031_006E,B25031_007E,B25064_001E,B23025_001E,B23025_002E,B23025_003E,B23025_004E,B23025_005E,B23025_006E,B23025_007E&for=tract:*&in=state: 17&in=county:*\n",
      "https://api.census.gov/data/2018/acs/acs5?get=NAME,B17020_001E,B17020_002E,B17020_010E,B03002_001E,B03002_004E,B03002_003E,B25077_001E,B25031_001E,B25031_002E,B25031_003E,B25031_004E,B25031_005E,B25031_006E,B25031_007E,B25064_001E,B23025_001E,B23025_002E,B23025_003E,B23025_004E,B23025_005E,B23025_006E,B23025_007E&for=tract:*&in=state: 18&in=county:*\n",
      "https://api.census.gov/data/2018/acs/acs5?get=NAME,B17020_001E,B17020_002E,B17020_010E,B03002_001E,B03002_004E,B03002_003E,B25077_001E,B25031_001E,B25031_002E,B25031_003E,B25031_004E,B25031_005E,B25031_006E,B25031_007E,B25064_001E,B23025_001E,B23025_002E,B23025_003E,B23025_004E,B23025_005E,B23025_006E,B23025_007E&for=tract:*&in=state: 19&in=county:*\n",
      "https://api.census.gov/data/2018/acs/acs5?get=NAME,B17020_001E,B17020_002E,B17020_010E,B03002_001E,B03002_004E,B03002_003E,B25077_001E,B25031_001E,B25031_002E,B25031_003E,B25031_004E,B25031_005E,B25031_006E,B25031_007E,B25064_001E,B23025_001E,B23025_002E,B23025_003E,B23025_004E,B23025_005E,B23025_006E,B23025_007E&for=tract:*&in=state: 20&in=county:*\n",
      "https://api.census.gov/data/2018/acs/acs5?get=NAME,B17020_001E,B17020_002E,B17020_010E,B03002_001E,B03002_004E,B03002_003E,B25077_001E,B25031_001E,B25031_002E,B25031_003E,B25031_004E,B25031_005E,B25031_006E,B25031_007E,B25064_001E,B23025_001E,B23025_002E,B23025_003E,B23025_004E,B23025_005E,B23025_006E,B23025_007E&for=tract:*&in=state: 21&in=county:*\n",
      "https://api.census.gov/data/2018/acs/acs5?get=NAME,B17020_001E,B17020_002E,B17020_010E,B03002_001E,B03002_004E,B03002_003E,B25077_001E,B25031_001E,B25031_002E,B25031_003E,B25031_004E,B25031_005E,B25031_006E,B25031_007E,B25064_001E,B23025_001E,B23025_002E,B23025_003E,B23025_004E,B23025_005E,B23025_006E,B23025_007E&for=tract:*&in=state: 22&in=county:*\n",
      "https://api.census.gov/data/2018/acs/acs5?get=NAME,B17020_001E,B17020_002E,B17020_010E,B03002_001E,B03002_004E,B03002_003E,B25077_001E,B25031_001E,B25031_002E,B25031_003E,B25031_004E,B25031_005E,B25031_006E,B25031_007E,B25064_001E,B23025_001E,B23025_002E,B23025_003E,B23025_004E,B23025_005E,B23025_006E,B23025_007E&for=tract:*&in=state: 23&in=county:*\n",
      "https://api.census.gov/data/2018/acs/acs5?get=NAME,B17020_001E,B17020_002E,B17020_010E,B03002_001E,B03002_004E,B03002_003E,B25077_001E,B25031_001E,B25031_002E,B25031_003E,B25031_004E,B25031_005E,B25031_006E,B25031_007E,B25064_001E,B23025_001E,B23025_002E,B23025_003E,B23025_004E,B23025_005E,B23025_006E,B23025_007E&for=tract:*&in=state: 24&in=county:*\n",
      "https://api.census.gov/data/2018/acs/acs5?get=NAME,B17020_001E,B17020_002E,B17020_010E,B03002_001E,B03002_004E,B03002_003E,B25077_001E,B25031_001E,B25031_002E,B25031_003E,B25031_004E,B25031_005E,B25031_006E,B25031_007E,B25064_001E,B23025_001E,B23025_002E,B23025_003E,B23025_004E,B23025_005E,B23025_006E,B23025_007E&for=tract:*&in=state: 25&in=county:*\n",
      "https://api.census.gov/data/2018/acs/acs5?get=NAME,B17020_001E,B17020_002E,B17020_010E,B03002_001E,B03002_004E,B03002_003E,B25077_001E,B25031_001E,B25031_002E,B25031_003E,B25031_004E,B25031_005E,B25031_006E,B25031_007E,B25064_001E,B23025_001E,B23025_002E,B23025_003E,B23025_004E,B23025_005E,B23025_006E,B23025_007E&for=tract:*&in=state: 26&in=county:*\n",
      "https://api.census.gov/data/2018/acs/acs5?get=NAME,B17020_001E,B17020_002E,B17020_010E,B03002_001E,B03002_004E,B03002_003E,B25077_001E,B25031_001E,B25031_002E,B25031_003E,B25031_004E,B25031_005E,B25031_006E,B25031_007E,B25064_001E,B23025_001E,B23025_002E,B23025_003E,B23025_004E,B23025_005E,B23025_006E,B23025_007E&for=tract:*&in=state: 27&in=county:*\n"
     ]
    },
    {
     "name": "stdout",
     "output_type": "stream",
     "text": [
      "https://api.census.gov/data/2018/acs/acs5?get=NAME,B17020_001E,B17020_002E,B17020_010E,B03002_001E,B03002_004E,B03002_003E,B25077_001E,B25031_001E,B25031_002E,B25031_003E,B25031_004E,B25031_005E,B25031_006E,B25031_007E,B25064_001E,B23025_001E,B23025_002E,B23025_003E,B23025_004E,B23025_005E,B23025_006E,B23025_007E&for=tract:*&in=state: 28&in=county:*\n",
      "https://api.census.gov/data/2018/acs/acs5?get=NAME,B17020_001E,B17020_002E,B17020_010E,B03002_001E,B03002_004E,B03002_003E,B25077_001E,B25031_001E,B25031_002E,B25031_003E,B25031_004E,B25031_005E,B25031_006E,B25031_007E,B25064_001E,B23025_001E,B23025_002E,B23025_003E,B23025_004E,B23025_005E,B23025_006E,B23025_007E&for=tract:*&in=state: 29&in=county:*\n",
      "https://api.census.gov/data/2018/acs/acs5?get=NAME,B17020_001E,B17020_002E,B17020_010E,B03002_001E,B03002_004E,B03002_003E,B25077_001E,B25031_001E,B25031_002E,B25031_003E,B25031_004E,B25031_005E,B25031_006E,B25031_007E,B25064_001E,B23025_001E,B23025_002E,B23025_003E,B23025_004E,B23025_005E,B23025_006E,B23025_007E&for=tract:*&in=state: 30&in=county:*\n",
      "https://api.census.gov/data/2018/acs/acs5?get=NAME,B17020_001E,B17020_002E,B17020_010E,B03002_001E,B03002_004E,B03002_003E,B25077_001E,B25031_001E,B25031_002E,B25031_003E,B25031_004E,B25031_005E,B25031_006E,B25031_007E,B25064_001E,B23025_001E,B23025_002E,B23025_003E,B23025_004E,B23025_005E,B23025_006E,B23025_007E&for=tract:*&in=state: 31&in=county:*\n",
      "https://api.census.gov/data/2018/acs/acs5?get=NAME,B17020_001E,B17020_002E,B17020_010E,B03002_001E,B03002_004E,B03002_003E,B25077_001E,B25031_001E,B25031_002E,B25031_003E,B25031_004E,B25031_005E,B25031_006E,B25031_007E,B25064_001E,B23025_001E,B23025_002E,B23025_003E,B23025_004E,B23025_005E,B23025_006E,B23025_007E&for=tract:*&in=state: 32&in=county:*\n",
      "https://api.census.gov/data/2018/acs/acs5?get=NAME,B17020_001E,B17020_002E,B17020_010E,B03002_001E,B03002_004E,B03002_003E,B25077_001E,B25031_001E,B25031_002E,B25031_003E,B25031_004E,B25031_005E,B25031_006E,B25031_007E,B25064_001E,B23025_001E,B23025_002E,B23025_003E,B23025_004E,B23025_005E,B23025_006E,B23025_007E&for=tract:*&in=state: 33&in=county:*\n",
      "https://api.census.gov/data/2018/acs/acs5?get=NAME,B17020_001E,B17020_002E,B17020_010E,B03002_001E,B03002_004E,B03002_003E,B25077_001E,B25031_001E,B25031_002E,B25031_003E,B25031_004E,B25031_005E,B25031_006E,B25031_007E,B25064_001E,B23025_001E,B23025_002E,B23025_003E,B23025_004E,B23025_005E,B23025_006E,B23025_007E&for=tract:*&in=state: 34&in=county:*\n",
      "https://api.census.gov/data/2018/acs/acs5?get=NAME,B17020_001E,B17020_002E,B17020_010E,B03002_001E,B03002_004E,B03002_003E,B25077_001E,B25031_001E,B25031_002E,B25031_003E,B25031_004E,B25031_005E,B25031_006E,B25031_007E,B25064_001E,B23025_001E,B23025_002E,B23025_003E,B23025_004E,B23025_005E,B23025_006E,B23025_007E&for=tract:*&in=state: 35&in=county:*\n",
      "https://api.census.gov/data/2018/acs/acs5?get=NAME,B17020_001E,B17020_002E,B17020_010E,B03002_001E,B03002_004E,B03002_003E,B25077_001E,B25031_001E,B25031_002E,B25031_003E,B25031_004E,B25031_005E,B25031_006E,B25031_007E,B25064_001E,B23025_001E,B23025_002E,B23025_003E,B23025_004E,B23025_005E,B23025_006E,B23025_007E&for=tract:*&in=state: 36&in=county:*\n",
      "https://api.census.gov/data/2018/acs/acs5?get=NAME,B17020_001E,B17020_002E,B17020_010E,B03002_001E,B03002_004E,B03002_003E,B25077_001E,B25031_001E,B25031_002E,B25031_003E,B25031_004E,B25031_005E,B25031_006E,B25031_007E,B25064_001E,B23025_001E,B23025_002E,B23025_003E,B23025_004E,B23025_005E,B23025_006E,B23025_007E&for=tract:*&in=state: 37&in=county:*\n",
      "https://api.census.gov/data/2018/acs/acs5?get=NAME,B17020_001E,B17020_002E,B17020_010E,B03002_001E,B03002_004E,B03002_003E,B25077_001E,B25031_001E,B25031_002E,B25031_003E,B25031_004E,B25031_005E,B25031_006E,B25031_007E,B25064_001E,B23025_001E,B23025_002E,B23025_003E,B23025_004E,B23025_005E,B23025_006E,B23025_007E&for=tract:*&in=state: 38&in=county:*\n",
      "https://api.census.gov/data/2018/acs/acs5?get=NAME,B17020_001E,B17020_002E,B17020_010E,B03002_001E,B03002_004E,B03002_003E,B25077_001E,B25031_001E,B25031_002E,B25031_003E,B25031_004E,B25031_005E,B25031_006E,B25031_007E,B25064_001E,B23025_001E,B23025_002E,B23025_003E,B23025_004E,B23025_005E,B23025_006E,B23025_007E&for=tract:*&in=state: 39&in=county:*\n",
      "https://api.census.gov/data/2018/acs/acs5?get=NAME,B17020_001E,B17020_002E,B17020_010E,B03002_001E,B03002_004E,B03002_003E,B25077_001E,B25031_001E,B25031_002E,B25031_003E,B25031_004E,B25031_005E,B25031_006E,B25031_007E,B25064_001E,B23025_001E,B23025_002E,B23025_003E,B23025_004E,B23025_005E,B23025_006E,B23025_007E&for=tract:*&in=state: 40&in=county:*\n",
      "https://api.census.gov/data/2018/acs/acs5?get=NAME,B17020_001E,B17020_002E,B17020_010E,B03002_001E,B03002_004E,B03002_003E,B25077_001E,B25031_001E,B25031_002E,B25031_003E,B25031_004E,B25031_005E,B25031_006E,B25031_007E,B25064_001E,B23025_001E,B23025_002E,B23025_003E,B23025_004E,B23025_005E,B23025_006E,B23025_007E&for=tract:*&in=state: 41&in=county:*\n",
      "https://api.census.gov/data/2018/acs/acs5?get=NAME,B17020_001E,B17020_002E,B17020_010E,B03002_001E,B03002_004E,B03002_003E,B25077_001E,B25031_001E,B25031_002E,B25031_003E,B25031_004E,B25031_005E,B25031_006E,B25031_007E,B25064_001E,B23025_001E,B23025_002E,B23025_003E,B23025_004E,B23025_005E,B23025_006E,B23025_007E&for=tract:*&in=state: 42&in=county:*\n",
      "https://api.census.gov/data/2018/acs/acs5?get=NAME,B17020_001E,B17020_002E,B17020_010E,B03002_001E,B03002_004E,B03002_003E,B25077_001E,B25031_001E,B25031_002E,B25031_003E,B25031_004E,B25031_005E,B25031_006E,B25031_007E,B25064_001E,B23025_001E,B23025_002E,B23025_003E,B23025_004E,B23025_005E,B23025_006E,B23025_007E&for=tract:*&in=state: 44&in=county:*\n",
      "https://api.census.gov/data/2018/acs/acs5?get=NAME,B17020_001E,B17020_002E,B17020_010E,B03002_001E,B03002_004E,B03002_003E,B25077_001E,B25031_001E,B25031_002E,B25031_003E,B25031_004E,B25031_005E,B25031_006E,B25031_007E,B25064_001E,B23025_001E,B23025_002E,B23025_003E,B23025_004E,B23025_005E,B23025_006E,B23025_007E&for=tract:*&in=state: 45&in=county:*\n",
      "https://api.census.gov/data/2018/acs/acs5?get=NAME,B17020_001E,B17020_002E,B17020_010E,B03002_001E,B03002_004E,B03002_003E,B25077_001E,B25031_001E,B25031_002E,B25031_003E,B25031_004E,B25031_005E,B25031_006E,B25031_007E,B25064_001E,B23025_001E,B23025_002E,B23025_003E,B23025_004E,B23025_005E,B23025_006E,B23025_007E&for=tract:*&in=state: 46&in=county:*\n",
      "https://api.census.gov/data/2018/acs/acs5?get=NAME,B17020_001E,B17020_002E,B17020_010E,B03002_001E,B03002_004E,B03002_003E,B25077_001E,B25031_001E,B25031_002E,B25031_003E,B25031_004E,B25031_005E,B25031_006E,B25031_007E,B25064_001E,B23025_001E,B23025_002E,B23025_003E,B23025_004E,B23025_005E,B23025_006E,B23025_007E&for=tract:*&in=state: 47&in=county:*\n",
      "https://api.census.gov/data/2018/acs/acs5?get=NAME,B17020_001E,B17020_002E,B17020_010E,B03002_001E,B03002_004E,B03002_003E,B25077_001E,B25031_001E,B25031_002E,B25031_003E,B25031_004E,B25031_005E,B25031_006E,B25031_007E,B25064_001E,B23025_001E,B23025_002E,B23025_003E,B23025_004E,B23025_005E,B23025_006E,B23025_007E&for=tract:*&in=state: 48&in=county:*\n",
      "https://api.census.gov/data/2018/acs/acs5?get=NAME,B17020_001E,B17020_002E,B17020_010E,B03002_001E,B03002_004E,B03002_003E,B25077_001E,B25031_001E,B25031_002E,B25031_003E,B25031_004E,B25031_005E,B25031_006E,B25031_007E,B25064_001E,B23025_001E,B23025_002E,B23025_003E,B23025_004E,B23025_005E,B23025_006E,B23025_007E&for=tract:*&in=state: 49&in=county:*\n",
      "https://api.census.gov/data/2018/acs/acs5?get=NAME,B17020_001E,B17020_002E,B17020_010E,B03002_001E,B03002_004E,B03002_003E,B25077_001E,B25031_001E,B25031_002E,B25031_003E,B25031_004E,B25031_005E,B25031_006E,B25031_007E,B25064_001E,B23025_001E,B23025_002E,B23025_003E,B23025_004E,B23025_005E,B23025_006E,B23025_007E&for=tract:*&in=state: 50&in=county:*\n",
      "https://api.census.gov/data/2018/acs/acs5?get=NAME,B17020_001E,B17020_002E,B17020_010E,B03002_001E,B03002_004E,B03002_003E,B25077_001E,B25031_001E,B25031_002E,B25031_003E,B25031_004E,B25031_005E,B25031_006E,B25031_007E,B25064_001E,B23025_001E,B23025_002E,B23025_003E,B23025_004E,B23025_005E,B23025_006E,B23025_007E&for=tract:*&in=state: 51&in=county:*\n",
      "https://api.census.gov/data/2018/acs/acs5?get=NAME,B17020_001E,B17020_002E,B17020_010E,B03002_001E,B03002_004E,B03002_003E,B25077_001E,B25031_001E,B25031_002E,B25031_003E,B25031_004E,B25031_005E,B25031_006E,B25031_007E,B25064_001E,B23025_001E,B23025_002E,B23025_003E,B23025_004E,B23025_005E,B23025_006E,B23025_007E&for=tract:*&in=state: 53&in=county:*\n"
     ]
    },
    {
     "name": "stdout",
     "output_type": "stream",
     "text": [
      "https://api.census.gov/data/2018/acs/acs5?get=NAME,B17020_001E,B17020_002E,B17020_010E,B03002_001E,B03002_004E,B03002_003E,B25077_001E,B25031_001E,B25031_002E,B25031_003E,B25031_004E,B25031_005E,B25031_006E,B25031_007E,B25064_001E,B23025_001E,B23025_002E,B23025_003E,B23025_004E,B23025_005E,B23025_006E,B23025_007E&for=tract:*&in=state: 54&in=county:*\n",
      "https://api.census.gov/data/2018/acs/acs5?get=NAME,B17020_001E,B17020_002E,B17020_010E,B03002_001E,B03002_004E,B03002_003E,B25077_001E,B25031_001E,B25031_002E,B25031_003E,B25031_004E,B25031_005E,B25031_006E,B25031_007E,B25064_001E,B23025_001E,B23025_002E,B23025_003E,B23025_004E,B23025_005E,B23025_006E,B23025_007E&for=tract:*&in=state: 55&in=county:*\n",
      "https://api.census.gov/data/2018/acs/acs5?get=NAME,B17020_001E,B17020_002E,B17020_010E,B03002_001E,B03002_004E,B03002_003E,B25077_001E,B25031_001E,B25031_002E,B25031_003E,B25031_004E,B25031_005E,B25031_006E,B25031_007E,B25064_001E,B23025_001E,B23025_002E,B23025_003E,B23025_004E,B23025_005E,B23025_006E,B23025_007E&for=tract:*&in=state: 56&in=county:*\n"
     ]
    }
   ],
   "source": [
    "#gather all acs5 data.\n",
    "full_df = run_the_states(states_list,codes)"
   ]
  },
  {
   "cell_type": "code",
   "execution_count": 113,
   "metadata": {},
   "outputs": [],
   "source": [
    "#gather all AC1 2018 data \n",
    "acs_1_2018_full_data = run_county_level(states_list,codes_1_2018,\"2018\",\"1\",string_acs_1_2018)"
   ]
  },
  {
   "cell_type": "code",
   "execution_count": 119,
   "metadata": {},
   "outputs": [],
   "source": [
    "#gather all AC1 2014 data \n",
    "acs_1_2014_full_data = run_county_level(states_list,codes_1_2014,\"2014\",\"1\",string_acs_1_2014)"
   ]
  },
  {
   "cell_type": "code",
   "execution_count": 116,
   "metadata": {},
   "outputs": [
    {
     "data": {
      "text/plain": [
       "838"
      ]
     },
     "execution_count": 116,
     "metadata": {},
     "output_type": "execute_result"
    }
   ],
   "source": [
    "#each data set had 838 unique counties, including PR\n",
    "len(acs_1_2018_full_data[\"Name\"].unique())"
   ]
  },
  {
   "cell_type": "code",
   "execution_count": 117,
   "metadata": {},
   "outputs": [
    {
     "data": {
      "text/plain": [
       "52"
      ]
     },
     "execution_count": 117,
     "metadata": {},
     "output_type": "execute_result"
    }
   ],
   "source": [
    "len(acs_1_2018_full_data[\"State\"].unique())"
   ]
  },
  {
   "cell_type": "code",
   "execution_count": 74,
   "metadata": {},
   "outputs": [],
   "source": [
    "#write ACS5 data to csv \n",
    "full_df.to_csv(\"ACS5Year_Tract_Level_Poverty.csv\")"
   ]
  },
  {
   "cell_type": "code",
   "execution_count": 118,
   "metadata": {},
   "outputs": [],
   "source": [
    "#write ACS_1_18 data to csv \n",
    "acs_1_2018_full_data.to_csv(\"ACS1_2018_County_Level_Poverty.csv\")"
   ]
  },
  {
   "cell_type": "code",
   "execution_count": 121,
   "metadata": {},
   "outputs": [],
   "source": [
    "#write ACS_1_14 data to csv \n",
    "acs_1_2014_full_data.to_csv(\"ACS1_2014_County_Level_Poverty.csv\")"
   ]
  },
  {
   "cell_type": "code",
   "execution_count": 122,
   "metadata": {},
   "outputs": [
    {
     "data": {
      "text/html": [
       "<div>\n",
       "<style scoped>\n",
       "    .dataframe tbody tr th:only-of-type {\n",
       "        vertical-align: middle;\n",
       "    }\n",
       "\n",
       "    .dataframe tbody tr th {\n",
       "        vertical-align: top;\n",
       "    }\n",
       "\n",
       "    .dataframe thead th {\n",
       "        text-align: right;\n",
       "    }\n",
       "</style>\n",
       "<table border=\"1\" class=\"dataframe\">\n",
       "  <thead>\n",
       "    <tr style=\"text-align: right;\">\n",
       "      <th></th>\n",
       "      <th>Name</th>\n",
       "      <th>Estimate!!Total</th>\n",
       "      <th>Estimate!!Total!!In labor force</th>\n",
       "      <th>Estimate!!Total!!In labor force!!Civilian labor force</th>\n",
       "      <th>Estimate!!Total!!In labor force!!Civilian labor force!!Employed</th>\n",
       "      <th>Estimate!!Total!!In labor force!!Civilian labor force!!Unemployed</th>\n",
       "      <th>Estimate!!Total!!In labor force!!Armed Forces</th>\n",
       "      <th>Estimate!!Total!!Not in labor force</th>\n",
       "      <th>Estimate!!Median household income in the past 12 months (in 2014 inflation-adjusted dollars)</th>\n",
       "      <th>State</th>\n",
       "      <th>County</th>\n",
       "    </tr>\n",
       "  </thead>\n",
       "  <tbody>\n",
       "    <tr>\n",
       "      <th>1</th>\n",
       "      <td>Baldwin County, Alabama</td>\n",
       "      <td>160204</td>\n",
       "      <td>94387</td>\n",
       "      <td>94063</td>\n",
       "      <td>87303</td>\n",
       "      <td>6760</td>\n",
       "      <td>324</td>\n",
       "      <td>65817</td>\n",
       "      <td>48461</td>\n",
       "      <td>01</td>\n",
       "      <td>003</td>\n",
       "    </tr>\n",
       "    <tr>\n",
       "      <th>2</th>\n",
       "      <td>Calhoun County, Alabama</td>\n",
       "      <td>93147</td>\n",
       "      <td>53824</td>\n",
       "      <td>53709</td>\n",
       "      <td>48114</td>\n",
       "      <td>5595</td>\n",
       "      <td>115</td>\n",
       "      <td>39323</td>\n",
       "      <td>41428</td>\n",
       "      <td>01</td>\n",
       "      <td>015</td>\n",
       "    </tr>\n",
       "    <tr>\n",
       "      <th>3</th>\n",
       "      <td>Cullman County, Alabama</td>\n",
       "      <td>64854</td>\n",
       "      <td>32792</td>\n",
       "      <td>32584</td>\n",
       "      <td>30722</td>\n",
       "      <td>1862</td>\n",
       "      <td>208</td>\n",
       "      <td>32062</td>\n",
       "      <td>38261</td>\n",
       "      <td>01</td>\n",
       "      <td>043</td>\n",
       "    </tr>\n",
       "    <tr>\n",
       "      <th>4</th>\n",
       "      <td>DeKalb County, Alabama</td>\n",
       "      <td>55547</td>\n",
       "      <td>28357</td>\n",
       "      <td>28357</td>\n",
       "      <td>27002</td>\n",
       "      <td>1355</td>\n",
       "      <td>0</td>\n",
       "      <td>27190</td>\n",
       "      <td>35023</td>\n",
       "      <td>01</td>\n",
       "      <td>049</td>\n",
       "    </tr>\n",
       "    <tr>\n",
       "      <th>5</th>\n",
       "      <td>Elmore County, Alabama</td>\n",
       "      <td>64514</td>\n",
       "      <td>35680</td>\n",
       "      <td>34980</td>\n",
       "      <td>31607</td>\n",
       "      <td>3373</td>\n",
       "      <td>700</td>\n",
       "      <td>28834</td>\n",
       "      <td>55530</td>\n",
       "      <td>01</td>\n",
       "      <td>051</td>\n",
       "    </tr>\n",
       "    <tr>\n",
       "      <th>...</th>\n",
       "      <td>...</td>\n",
       "      <td>...</td>\n",
       "      <td>...</td>\n",
       "      <td>...</td>\n",
       "      <td>...</td>\n",
       "      <td>...</td>\n",
       "      <td>...</td>\n",
       "      <td>...</td>\n",
       "      <td>...</td>\n",
       "      <td>...</td>\n",
       "      <td>...</td>\n",
       "    </tr>\n",
       "    <tr>\n",
       "      <th>824</th>\n",
       "      <td>Ponce Municipio, Puerto Rico</td>\n",
       "      <td>123930</td>\n",
       "      <td>47264</td>\n",
       "      <td>47136</td>\n",
       "      <td>38976</td>\n",
       "      <td>8160</td>\n",
       "      <td>128</td>\n",
       "      <td>76666</td>\n",
       "      <td>15935</td>\n",
       "      <td>72</td>\n",
       "      <td>113</td>\n",
       "    </tr>\n",
       "    <tr>\n",
       "      <th>825</th>\n",
       "      <td>San Juan Municipio, Puerto Rico</td>\n",
       "      <td>302536</td>\n",
       "      <td>154849</td>\n",
       "      <td>154818</td>\n",
       "      <td>131229</td>\n",
       "      <td>23589</td>\n",
       "      <td>31</td>\n",
       "      <td>147687</td>\n",
       "      <td>20234</td>\n",
       "      <td>72</td>\n",
       "      <td>127</td>\n",
       "    </tr>\n",
       "    <tr>\n",
       "      <th>826</th>\n",
       "      <td>Toa Alta Municipio, Puerto Rico</td>\n",
       "      <td>59563</td>\n",
       "      <td>28829</td>\n",
       "      <td>28829</td>\n",
       "      <td>26279</td>\n",
       "      <td>2550</td>\n",
       "      <td>0</td>\n",
       "      <td>30734</td>\n",
       "      <td>29341</td>\n",
       "      <td>72</td>\n",
       "      <td>135</td>\n",
       "    </tr>\n",
       "    <tr>\n",
       "      <th>827</th>\n",
       "      <td>Toa Baja Municipio, Puerto Rico</td>\n",
       "      <td>68043</td>\n",
       "      <td>38536</td>\n",
       "      <td>38536</td>\n",
       "      <td>30911</td>\n",
       "      <td>7625</td>\n",
       "      <td>0</td>\n",
       "      <td>29507</td>\n",
       "      <td>22166</td>\n",
       "      <td>72</td>\n",
       "      <td>137</td>\n",
       "    </tr>\n",
       "    <tr>\n",
       "      <th>828</th>\n",
       "      <td>Trujillo Alto Municipio, Puerto Rico</td>\n",
       "      <td>56899</td>\n",
       "      <td>30671</td>\n",
       "      <td>30671</td>\n",
       "      <td>27764</td>\n",
       "      <td>2907</td>\n",
       "      <td>0</td>\n",
       "      <td>26228</td>\n",
       "      <td>25972</td>\n",
       "      <td>72</td>\n",
       "      <td>139</td>\n",
       "    </tr>\n",
       "  </tbody>\n",
       "</table>\n",
       "<p>828 rows × 11 columns</p>\n",
       "</div>"
      ],
      "text/plain": [
       "                                     Name Estimate!!Total  \\\n",
       "1                 Baldwin County, Alabama          160204   \n",
       "2                 Calhoun County, Alabama           93147   \n",
       "3                 Cullman County, Alabama           64854   \n",
       "4                  DeKalb County, Alabama           55547   \n",
       "5                  Elmore County, Alabama           64514   \n",
       "..                                    ...             ...   \n",
       "824          Ponce Municipio, Puerto Rico          123930   \n",
       "825       San Juan Municipio, Puerto Rico          302536   \n",
       "826       Toa Alta Municipio, Puerto Rico           59563   \n",
       "827       Toa Baja Municipio, Puerto Rico           68043   \n",
       "828  Trujillo Alto Municipio, Puerto Rico           56899   \n",
       "\n",
       "    Estimate!!Total!!In labor force  \\\n",
       "1                             94387   \n",
       "2                             53824   \n",
       "3                             32792   \n",
       "4                             28357   \n",
       "5                             35680   \n",
       "..                              ...   \n",
       "824                           47264   \n",
       "825                          154849   \n",
       "826                           28829   \n",
       "827                           38536   \n",
       "828                           30671   \n",
       "\n",
       "    Estimate!!Total!!In labor force!!Civilian labor force  \\\n",
       "1                                                94063      \n",
       "2                                                53709      \n",
       "3                                                32584      \n",
       "4                                                28357      \n",
       "5                                                34980      \n",
       "..                                                 ...      \n",
       "824                                              47136      \n",
       "825                                             154818      \n",
       "826                                              28829      \n",
       "827                                              38536      \n",
       "828                                              30671      \n",
       "\n",
       "    Estimate!!Total!!In labor force!!Civilian labor force!!Employed  \\\n",
       "1                                                87303                \n",
       "2                                                48114                \n",
       "3                                                30722                \n",
       "4                                                27002                \n",
       "5                                                31607                \n",
       "..                                                 ...                \n",
       "824                                              38976                \n",
       "825                                             131229                \n",
       "826                                              26279                \n",
       "827                                              30911                \n",
       "828                                              27764                \n",
       "\n",
       "    Estimate!!Total!!In labor force!!Civilian labor force!!Unemployed  \\\n",
       "1                                                 6760                  \n",
       "2                                                 5595                  \n",
       "3                                                 1862                  \n",
       "4                                                 1355                  \n",
       "5                                                 3373                  \n",
       "..                                                 ...                  \n",
       "824                                               8160                  \n",
       "825                                              23589                  \n",
       "826                                               2550                  \n",
       "827                                               7625                  \n",
       "828                                               2907                  \n",
       "\n",
       "    Estimate!!Total!!In labor force!!Armed Forces  \\\n",
       "1                                             324   \n",
       "2                                             115   \n",
       "3                                             208   \n",
       "4                                               0   \n",
       "5                                             700   \n",
       "..                                            ...   \n",
       "824                                           128   \n",
       "825                                            31   \n",
       "826                                             0   \n",
       "827                                             0   \n",
       "828                                             0   \n",
       "\n",
       "    Estimate!!Total!!Not in labor force  \\\n",
       "1                                 65817   \n",
       "2                                 39323   \n",
       "3                                 32062   \n",
       "4                                 27190   \n",
       "5                                 28834   \n",
       "..                                  ...   \n",
       "824                               76666   \n",
       "825                              147687   \n",
       "826                               30734   \n",
       "827                               29507   \n",
       "828                               26228   \n",
       "\n",
       "    Estimate!!Median household income in the past 12 months (in 2014 inflation-adjusted dollars)  \\\n",
       "1                                                48461                                             \n",
       "2                                                41428                                             \n",
       "3                                                38261                                             \n",
       "4                                                35023                                             \n",
       "5                                                55530                                             \n",
       "..                                                 ...                                             \n",
       "824                                              15935                                             \n",
       "825                                              20234                                             \n",
       "826                                              29341                                             \n",
       "827                                              22166                                             \n",
       "828                                              25972                                             \n",
       "\n",
       "    State County  \n",
       "1      01    003  \n",
       "2      01    015  \n",
       "3      01    043  \n",
       "4      01    049  \n",
       "5      01    051  \n",
       "..    ...    ...  \n",
       "824    72    113  \n",
       "825    72    127  \n",
       "826    72    135  \n",
       "827    72    137  \n",
       "828    72    139  \n",
       "\n",
       "[828 rows x 11 columns]"
      ]
     },
     "execution_count": 122,
     "metadata": {},
     "output_type": "execute_result"
    }
   ],
   "source": [
    "acs_1_2014_full_data"
   ]
  }
 ],
 "metadata": {
  "kernelspec": {
   "display_name": "Python 3",
   "language": "python",
   "name": "python3"
  },
  "language_info": {
   "codemirror_mode": {
    "name": "ipython",
    "version": 3
   },
   "file_extension": ".py",
   "mimetype": "text/x-python",
   "name": "python",
   "nbconvert_exporter": "python",
   "pygments_lexer": "ipython3",
   "version": "3.7.2"
  }
 },
 "nbformat": 4,
 "nbformat_minor": 2
}
