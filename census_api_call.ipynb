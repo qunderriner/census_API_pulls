{
 "cells": [
  {
   "cell_type": "code",
   "execution_count": 2,
   "metadata": {},
   "outputs": [],
   "source": [
    "import pandas as pd\n",
    "import requests"
   ]
  },
  {
   "cell_type": "markdown",
   "metadata": {},
   "source": [
    "This notebook gathers data from the census API "
   ]
  },
  {
   "cell_type": "code",
   "execution_count": 22,
   "metadata": {},
   "outputs": [],
   "source": [
    "#got state number list from this github https://gist.github.com/dantonnoriega/bf1acd2290e15b91e6710b6fd3be0a53\n",
    "census_state_list_url = \"https://gist.githubusercontent.com/dantonnoriega/bf1acd2290e15b91e6710b6fd3be0a53/raw/11d15233327c8080c9646c7e1f23052659db251d/us-state-ansi-fips.csv\""
   ]
  },
  {
   "cell_type": "code",
   "execution_count": 31,
   "metadata": {},
   "outputs": [],
   "source": [
    "#need converter to keep leading zero\n",
    "states = pd.read_csv(census_state_list_url,converters={' st': lambda x: str(x)})\n",
    "states_list = states[\" st\"]"
   ]
  },
  {
   "cell_type": "code",
   "execution_count": 112,
   "metadata": {},
   "outputs": [],
   "source": [
    "def get_data(year,acs,state,codes):\n",
    "    \"\"\"\n",
    "    Load data from API. modify the url to change the items being requested. Also if adding new items to call, add them to the \"codes\" dictionary above\n",
    "    so they they get proper column labels. \n",
    "    inputs:\n",
    "        year (str) year of the call \n",
    "        acs(str) 1 or 5 year acs \n",
    "        state (str) which state - should run through state list - of form 01-50.\n",
    "        codes (str) codes for data you want to load \n",
    "        \n",
    "    \"\"\"\n",
    "    #use the URL below for census tract level \n",
    "    #url = \"https://api.census.gov/data/\"+year+\"/acs/acs\"+acs+\"?get=NAME,\"+codes +\"&for=tract:*&in=state:\"+state+\"&in=county:*\"\n",
    "    \n",
    "    #the URL below is for county level \n",
    "    url = \"https://api.census.gov/data/\"+year+\"/acs/acs\"+acs+\"?get=NAME,\"+codes +\"&for=county:*&in=state:*\" \n",
    "    #+state\n",
    "\n",
    "    #print(url)\n",
    "    response = requests.get(url)\n",
    "    data_1 = pd.DataFrame(response.json())\n",
    "\n",
    "    return data_1 \n"
   ]
  },
  {
   "cell_type": "code",
   "execution_count": 61,
   "metadata": {},
   "outputs": [],
   "source": [
    "def make_header(df,codes):\n",
    "\t\"\"\"\n",
    "\tdo some basic cleanup of the header row \n",
    "\t\"\"\"\n",
    "\tnew_header = df.iloc[0] #grab the first row for the header\n",
    "\tdf = df[1:] #take the data less the header row\n",
    "\tdf.columns = new_header\n",
    "\tdf.columns = [codes[x] for x in df.columns]\n",
    "\treturn df "
   ]
  },
  {
   "cell_type": "code",
   "execution_count": null,
   "metadata": {},
   "outputs": [],
   "source": [
    "#read in list of desired codes for variables \n",
    "df_key = pd.read_excel(\"ACS data dl.xlsx\")\n",
    "\n",
    "#subset the data based on calls to different datasets \n",
    "acs_5 = df_key[df_key.survey == 'ACS 5 year 2018']\n",
    "acs_1_2018 = df_key[df_key.survey == 'ACS 1 year 2018']\n",
    "acs_1_2014 = df_key[df_key.survey == 'ACS 1 year 2014']"
   ]
  },
  {
   "cell_type": "code",
   "execution_count": 52,
   "metadata": {},
   "outputs": [],
   "source": [
    "#to make column names need to make dictionary of codes to names acs_5\n",
    "codes = dict(zip(acs_5.code, acs_5.label))\n",
    "tract_dict = {\"NAME\":\"Name\",\"state\":\"State\",\"county\":\"County\",\"tract\":\"Tract\"}\n",
    "codes.update(tract_dict) "
   ]
  },
  {
   "cell_type": "code",
   "execution_count": 101,
   "metadata": {},
   "outputs": [],
   "source": [
    "#to make column names need to make dictionary of codes to names acs_1_2018\n",
    "codes_1_2018 = dict(zip(acs_1_2018.code, acs_1_2018.label))\n",
    "tract_dict = {\"NAME\":\"Name\",\"state\":\"State\",\"county\":\"County\"}\n",
    "codes_1_2018.update(tract_dict) "
   ]
  },
  {
   "cell_type": "code",
   "execution_count": 100,
   "metadata": {},
   "outputs": [],
   "source": [
    "#to make column names need to make dictionary of codes to names acs_1_2014\n",
    "codes_1_2014 = dict(zip(acs_1_2014.code, acs_1_2014.label))\n",
    "tract_dict = {\"NAME\":\"Name\",\"state\":\"State\",\"county\":\"County\"}\n",
    "codes_1_2014.update(tract_dict) "
   ]
  },
  {
   "cell_type": "code",
   "execution_count": 87,
   "metadata": {},
   "outputs": [],
   "source": [
    "#make string of codes we want \n",
    "def make_string(df):\n",
    "    string = \"\"\n",
    "    for i in list(df[\"code\"].unique()):\n",
    "        i = i + \",\"\n",
    "        string += i \n",
    "    string = string[:-1]\n",
    "    return string"
   ]
  },
  {
   "cell_type": "code",
   "execution_count": null,
   "metadata": {},
   "outputs": [],
   "source": [
    "#make different variable name keys for each substring \n",
    "string = make_string(acs_5)\n",
    "string_acs_1_2014 = make_string(acs_1_2014)\n",
    "string_acs_1_2018 = make_string(acs_1_2018)"
   ]
  },
  {
   "cell_type": "code",
   "execution_count": 106,
   "metadata": {},
   "outputs": [],
   "source": [
    "def run_the_states(states_list,codes,year,acs,string):\n",
    "    \"\"\"\n",
    "    states_list (list) list of strings of state codes (01, etc)\n",
    "    codes (str) single string of all variable codes \n",
    "    year (str) year of data\n",
    "    acs (str) 1 or 5 year acs data \n",
    "    codes (dict) dictionary mapping of ACS variable name codes to real names \n",
    "        Run through list of states to get acs data from each census tract. \n",
    "    \n",
    "    \"\"\"\n",
    "\n",
    "    final_df = pd.DataFrame()\n",
    "    df = []\n",
    "    for i in states_list:\n",
    "        try:\n",
    "            new_state = get_data(year ,acs ,i , string)\n",
    "        except Exception as e:\n",
    "            print(i,\" doesn't work\", e)\n",
    "        try:\n",
    "            new_state = make_header(new_state, codes)\n",
    "        except Exception as e:\n",
    "            print(i,\" col name doesn't work\", e)\n",
    "        \n",
    "        try:\n",
    "            df.append(new_state)\n",
    "        \n",
    "        except Exception as e:\n",
    "            print(\"cant add new info\",file_name, e)\n",
    "        \n",
    "    final_df = final_df.append(df, True)   \n",
    "    return final_df"
   ]
  },
  {
   "cell_type": "code",
   "execution_count": 111,
   "metadata": {},
   "outputs": [],
   "source": [
    "def run_county_level(states_list,codes,year,acs,string):\n",
    "    try:\n",
    "        final_df = get_data(year ,acs ,i , string)\n",
    "    except Exception as e:\n",
    "        print(i,\" doesn't work\", e)\n",
    "    try:\n",
    "        final_df = make_header(final_df, codes)\n",
    "    except Exception as e:\n",
    "        print(i,\" col name doesn't work\", e)\n",
    "\n",
    "    return final_df"
   ]
  },
  {
   "cell_type": "code",
   "execution_count": null,
   "metadata": {},
   "outputs": [],
   "source": [
    "#gather all acs5 data.\n",
    "full_df = run_the_states(states_list,codes)"
   ]
  },
  {
   "cell_type": "code",
   "execution_count": 113,
   "metadata": {},
   "outputs": [],
   "source": [
    "#gather all AC1 2018 data \n",
    "acs_1_2018_full_data = run_county_level(states_list,codes_1_2018,\"2018\",\"1\",string_acs_1_2018)"
   ]
  },
  {
   "cell_type": "code",
   "execution_count": 119,
   "metadata": {},
   "outputs": [],
   "source": [
    "#gather all AC1 2014 data \n",
    "acs_1_2014_full_data = run_county_level(states_list,codes_1_2014,\"2014\",\"1\",string_acs_1_2014)"
   ]
  },
  {
   "cell_type": "code",
   "execution_count": 116,
   "metadata": {},
   "outputs": [
    {
     "data": {
      "text/plain": [
       "838"
      ]
     },
     "execution_count": 116,
     "metadata": {},
     "output_type": "execute_result"
    }
   ],
   "source": [
    "#each data set had 838 unique counties, including PR\n",
    "len(acs_1_2018_full_data[\"Name\"].unique())"
   ]
  },
  {
   "cell_type": "code",
   "execution_count": 117,
   "metadata": {},
   "outputs": [
    {
     "data": {
      "text/plain": [
       "52"
      ]
     },
     "execution_count": 117,
     "metadata": {},
     "output_type": "execute_result"
    }
   ],
   "source": [
    "len(acs_1_2018_full_data[\"State\"].unique())"
   ]
  },
  {
   "cell_type": "code",
   "execution_count": 74,
   "metadata": {},
   "outputs": [],
   "source": [
    "#write ACS5 data to csv \n",
    "full_df.to_csv(\"ACS5Year_Tract_Level_Poverty.csv\")"
   ]
  },
  {
   "cell_type": "code",
   "execution_count": 118,
   "metadata": {},
   "outputs": [],
   "source": [
    "#write ACS_1_18 data to csv \n",
    "acs_1_2018_full_data.to_csv(\"ACS1_2018_County_Level_Poverty.csv\")"
   ]
  },
  {
   "cell_type": "code",
   "execution_count": 121,
   "metadata": {},
   "outputs": [],
   "source": [
    "#write ACS_1_14 data to csv \n",
    "acs_1_2014_full_data.to_csv(\"ACS1_2014_County_Level_Poverty.csv\")"
   ]
  }
 ],
 "metadata": {
  "kernelspec": {
   "display_name": "Python 3",
   "language": "python",
   "name": "python3"
  },
  "language_info": {
   "codemirror_mode": {
    "name": "ipython",
    "version": 3
   },
   "file_extension": ".py",
   "mimetype": "text/x-python",
   "name": "python",
   "nbconvert_exporter": "python",
   "pygments_lexer": "ipython3",
   "version": "3.7.2"
  }
 },
 "nbformat": 4,
 "nbformat_minor": 2
}
